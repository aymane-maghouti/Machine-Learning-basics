{
 "cells": [
  {
   "cell_type": "markdown",
   "id": "5800d2a2",
   "metadata": {},
   "source": [
    "# Importation des librairies"
   ]
  },
  {
   "cell_type": "code",
   "execution_count": null,
   "id": "d57e8bbe",
   "metadata": {},
   "outputs": [],
   "source": [
    "import numpy as np\n",
    "import pandas as pd \n",
    "import matplotlib.pyplot as plt\n",
    "from sklearn.metrics import r2_score # pour comparer les modeles\n",
    "from sklearn.linear_model import LinearRegression\n",
    "from sklearn.preprocessing import PolynomialFeatures"
   ]
  },
  {
   "cell_type": "markdown",
   "id": "42935819",
   "metadata": {},
   "source": [
    "# Importation du dataset\n"
   ]
  },
  {
   "cell_type": "code",
   "execution_count": 63,
   "id": "ef33cc89",
   "metadata": {},
   "outputs": [],
   "source": [
    "dataset = pd.read_excel(\"dataset.xlsx\")\n"
   ]
  },
  {
   "cell_type": "code",
   "execution_count": 75,
   "id": "dfde6550",
   "metadata": {},
   "outputs": [
    {
     "data": {
      "text/html": [
       "<div>\n",
       "<style scoped>\n",
       "    .dataframe tbody tr th:only-of-type {\n",
       "        vertical-align: middle;\n",
       "    }\n",
       "\n",
       "    .dataframe tbody tr th {\n",
       "        vertical-align: top;\n",
       "    }\n",
       "\n",
       "    .dataframe thead th {\n",
       "        text-align: right;\n",
       "    }\n",
       "</style>\n",
       "<table border=\"1\" class=\"dataframe\">\n",
       "  <thead>\n",
       "    <tr style=\"text-align: right;\">\n",
       "      <th></th>\n",
       "      <th>Numero_annee</th>\n",
       "      <th>Deviation_temperature</th>\n",
       "    </tr>\n",
       "  </thead>\n",
       "  <tbody>\n",
       "    <tr>\n",
       "      <th>0</th>\n",
       "      <td>1</td>\n",
       "      <td>0.29</td>\n",
       "    </tr>\n",
       "    <tr>\n",
       "      <th>1</th>\n",
       "      <td>2</td>\n",
       "      <td>0.14</td>\n",
       "    </tr>\n",
       "    <tr>\n",
       "      <th>2</th>\n",
       "      <td>3</td>\n",
       "      <td>0.19</td>\n",
       "    </tr>\n",
       "    <tr>\n",
       "      <th>3</th>\n",
       "      <td>4</td>\n",
       "      <td>0.26</td>\n",
       "    </tr>\n",
       "    <tr>\n",
       "      <th>4</th>\n",
       "      <td>5</td>\n",
       "      <td>0.28</td>\n",
       "    </tr>\n",
       "    <tr>\n",
       "      <th>5</th>\n",
       "      <td>6</td>\n",
       "      <td>0.22</td>\n",
       "    </tr>\n",
       "    <tr>\n",
       "      <th>6</th>\n",
       "      <td>7</td>\n",
       "      <td>0.43</td>\n",
       "    </tr>\n",
       "    <tr>\n",
       "      <th>7</th>\n",
       "      <td>8</td>\n",
       "      <td>0.59</td>\n",
       "    </tr>\n",
       "    <tr>\n",
       "      <th>8</th>\n",
       "      <td>9</td>\n",
       "      <td>0.33</td>\n",
       "    </tr>\n",
       "    <tr>\n",
       "      <th>9</th>\n",
       "      <td>10</td>\n",
       "      <td>0.29</td>\n",
       "    </tr>\n",
       "  </tbody>\n",
       "</table>\n",
       "</div>"
      ],
      "text/plain": [
       "   Numero_annee  Deviation_temperature\n",
       "0             1                   0.29\n",
       "1             2                   0.14\n",
       "2             3                   0.19\n",
       "3             4                   0.26\n",
       "4             5                   0.28\n",
       "5             6                   0.22\n",
       "6             7                   0.43\n",
       "7             8                   0.59\n",
       "8             9                   0.33\n",
       "9            10                   0.29"
      ]
     },
     "execution_count": 75,
     "metadata": {},
     "output_type": "execute_result"
    }
   ],
   "source": [
    "dataset"
   ]
  },
  {
   "cell_type": "markdown",
   "id": "2fefe350",
   "metadata": {},
   "source": [
    "# la selection des variables indépendante et dépendante"
   ]
  },
  {
   "cell_type": "code",
   "execution_count": 65,
   "id": "3439ee09",
   "metadata": {},
   "outputs": [],
   "source": [
    "X = dataset.iloc[:, :-1].values\n",
    "Y = dataset.iloc[:,- 1].values"
   ]
  },
  {
   "cell_type": "code",
   "execution_count": 66,
   "id": "5816c041",
   "metadata": {},
   "outputs": [
    {
     "data": {
      "text/plain": [
       "(array([[ 1],\n",
       "        [ 2],\n",
       "        [ 3],\n",
       "        [ 4],\n",
       "        [ 5],\n",
       "        [ 6],\n",
       "        [ 7],\n",
       "        [ 8],\n",
       "        [ 9],\n",
       "        [10]], dtype=int64),\n",
       " array([0.29, 0.14, 0.19, 0.26, 0.28, 0.22, 0.43, 0.59, 0.33, 0.29]))"
      ]
     },
     "execution_count": 66,
     "metadata": {},
     "output_type": "execute_result"
    }
   ],
   "source": [
    "X,Y"
   ]
  },
  {
   "cell_type": "markdown",
   "id": "540ab251",
   "metadata": {},
   "source": [
    "# Representation du dataset par un nuage de points \n"
   ]
  },
  {
   "cell_type": "code",
   "execution_count": 67,
   "id": "caf0fcc4",
   "metadata": {},
   "outputs": [
    {
     "data": {
      "text/plain": [
       "<matplotlib.collections.PathCollection at 0x20a2a72ba90>"
      ]
     },
     "execution_count": 67,
     "metadata": {},
     "output_type": "execute_result"
    },
    {
     "data": {
      "image/png": "[encoded data removed]",
      "text/plain": [
       "<Figure size 432x288 with 1 Axes>"
      ]
     },
     "metadata": {
      "needs_background": "light"
     },
     "output_type": "display_data"
    }
   ],
   "source": [
    "plt.scatter(X,Y,color='blue')"
   ]
  },
  {
   "cell_type": "markdown",
   "id": "34a5822f",
   "metadata": {},
   "source": [
    "# Regression lineaire "
   ]
  },
  {
   "cell_type": "markdown",
   "id": "11e2e26c",
   "metadata": {},
   "source": [
    "## Creation et entrainement d'un modele regression lineaire simple "
   ]
  },
  {
   "cell_type": "code",
   "execution_count": 68,
   "id": "db563f1b",
   "metadata": {},
   "outputs": [],
   "source": [
    "regressor = LinearRegression()\n",
    "regressor.fit(X,Y)\n",
    "y_pred = regressor.predict(X)"
   ]
  },
  {
   "cell_type": "markdown",
   "id": "b2074239",
   "metadata": {},
   "source": [
    "## Visualisation des resultats"
   ]
  },
  {
   "cell_type": "code",
   "execution_count": 69,
   "id": "ed264a02",
   "metadata": {},
   "outputs": [
    {
     "data": {
      "text/plain": [
       "[<matplotlib.lines.Line2D at 0x20a2a779c10>]"
      ]
     },
     "execution_count": 69,
     "metadata": {},
     "output_type": "execute_result"
    },
    {
     "data": {
      "image/png": "[encoded data removed]",
      "text/plain": [
       "<Figure size 432x288 with 1 Axes>"
      ]
     },
     "metadata": {
      "needs_background": "light"
     },
     "output_type": "display_data"
    }
   ],
   "source": [
    "plt.scatter(X,Y,color='blue')\n",
    "plt.plot(X,y_pred,color='red')"
   ]
  },
  {
   "cell_type": "markdown",
   "id": "f4763ab1",
   "metadata": {},
   "source": [
    "## le calcule de la performance du modele (r2 faur etre approche de 1 pour un modele tres performant)\n"
   ]
  },
  {
   "cell_type": "code",
   "execution_count": 70,
   "id": "28c7bd67",
   "metadata": {},
   "outputs": [
    {
     "data": {
      "text/plain": [
       "0.2922393481248773"
      ]
     },
     "execution_count": 70,
     "metadata": {},
     "output_type": "execute_result"
    }
   ],
   "source": [
    "r2 = r2_score(Y,y_pred)\n",
    "r2"
   ]
  },
  {
   "cell_type": "markdown",
   "id": "3cdc3d5f",
   "metadata": {},
   "source": [
    "# Regression polynomiale  "
   ]
  },
  {
   "cell_type": "markdown",
   "id": "ea972493",
   "metadata": {},
   "source": [
    "## creation et entrainement d'un modele regression polynomiale \n"
   ]
  },
  {
   "cell_type": "code",
   "execution_count": 71,
   "id": "714db2dd",
   "metadata": {},
   "outputs": [],
   "source": [
    "poly_reg = PolynomialFeatures(degree =2)\n",
    "X_poly = poly_reg.fit_transform(X)\n",
    "regressor_poly = LinearRegression()\n",
    "regressor_poly.fit(X_poly,Y)\n",
    "y_poly_reg= regressor_poly.predict(X_poly)"
   ]
  },
  {
   "cell_type": "markdown",
   "id": "53e85ea6",
   "metadata": {},
   "source": [
    "## la visualisation des resultats"
   ]
  },
  {
   "cell_type": "code",
   "execution_count": 72,
   "id": "b12e1af2",
   "metadata": {},
   "outputs": [
    {
     "data": {
      "text/plain": [
       "[<matplotlib.lines.Line2D at 0x20a2a7e6100>]"
      ]
     },
     "execution_count": 72,
     "metadata": {},
     "output_type": "execute_result"
    },
    {
     "data": {
      "image/png": "[encoded data removed]",
      "text/plain": [
       "<Figure size 432x288 with 1 Axes>"
      ]
     },
     "metadata": {
      "needs_background": "light"
     },
     "output_type": "display_data"
    }
   ],
   "source": [
    "plt.scatter(X,Y,color='blue')\n",
    "plt.plot(X,regressor.predict(X) ,color='red')\n",
    "plt.plot(X,regressor_poly.predict(X_poly), color = 'green')"
   ]
  },
  {
   "cell_type": "markdown",
   "id": "3260fd35",
   "metadata": {},
   "source": [
    "## le calcule de la performance du modele "
   ]
  },
  {
   "cell_type": "code",
   "execution_count": 73,
   "id": "8703ff08",
   "metadata": {},
   "outputs": [
    {
     "data": {
      "text/plain": [
       "0.30169370541265783"
      ]
     },
     "execution_count": 73,
     "metadata": {},
     "output_type": "execute_result"
    }
   ],
   "source": [
    "r2_poly = r2_score(Y,y_poly_reg)\n",
    "r2_poly"
   ]
  },
  {
   "cell_type": "markdown",
   "id": "69dde8e5",
   "metadata": {},
   "source": [
    "## une nouvelle prediction par le modele polynomiale en utilisant des nouvelle donnees \n"
   ]
  },
  {
   "cell_type": "code",
   "execution_count": 74,
   "id": "2c6b423b",
   "metadata": {},
   "outputs": [
    {
     "data": {
      "text/plain": [
       "array([0.39216667])"
      ]
     },
     "execution_count": 74,
     "metadata": {},
     "output_type": "execute_result"
    }
   ],
   "source": [
    "predictions_poly = poly_reg.fit_transform([[11]])\n",
    "regressor_poly.predict(predictions_poly)"
   ]
  }
 ],
 "metadata": {
  "kernelspec": {
   "display_name": "Python 3 (ipykernel)",
   "language": "python",
   "name": "python3"
  },
  "language_info": {
   "codemirror_mode": {
    "name": "ipython",
    "version": 3
   },
   "file_extension": ".py",
   "mimetype": "text/x-python",
   "name": "python",
   "nbconvert_exporter": "python",
   "pygments_lexer": "ipython3",
   "version": "3.9.12"
  }
 },
 "nbformat": 4,
 "nbformat_minor": 5
}
