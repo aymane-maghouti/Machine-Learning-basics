{
 "cells": [
  {
   "cell_type": "markdown",
   "id": "327fa45a",
   "metadata": {},
   "source": [
    "# Importing libraries"
   ]
  },
  {
   "cell_type": "markdown",
   "id": "586a76e3",
   "metadata": {},
   "source": [
    "In this code, we will use three different Python libraries:\n",
    "\n",
    "-- NumPy is a library for numerical computing in Python. We will use it to define and manipulate the data array, which represents the data points in our example.\n",
    "\n",
    "-- Matplotlib is a plotting library for Python. We will use it to create the scatter plot that visualizes the data and clusters.\n",
    "\n",
    "-- Scikit-learn is a machine learning library for Python. We will use it to implement the k-means clustering algorithm and fit the model to the data. Specifically, we will use the KMeans class from the sklearn.cluster module to create an instance of the k-means model, and the fit() method to fit the model to the data. \n"
   ]
  },
  {
   "cell_type": "code",
   "execution_count": 1,
   "id": "8e190814",
   "metadata": {},
   "outputs": [],
   "source": [
    "import numpy as np\n",
    "from sklearn.cluster import KMeans\n",
    "import matplotlib.pyplot as plt"
   ]
  },
  {
   "cell_type": "markdown",
   "id": "a8ea6e90",
   "metadata": {},
   "source": [
    "# Data initialization"
   ]
  },
  {
   "cell_type": "code",
   "execution_count": 2,
   "id": "1dce073c",
   "metadata": {},
   "outputs": [],
   "source": [
    "data = np.array([[2, 10], [2, 5], [8, 4], [5, 8], [7, 5], [6, 4], [1, 2], [4, 9]])"
   ]
  },
  {
   "cell_type": "code",
   "execution_count": 3,
   "id": "0628d9ec",
   "metadata": {},
   "outputs": [
    {
     "data": {
      "text/plain": [
       "array([[ 2, 10],\n",
       "       [ 2,  5],\n",
       "       [ 8,  4],\n",
       "       [ 5,  8],\n",
       "       [ 7,  5],\n",
       "       [ 6,  4],\n",
       "       [ 1,  2],\n",
       "       [ 4,  9]])"
      ]
     },
     "execution_count": 3,
     "metadata": {},
     "output_type": "execute_result"
    }
   ],
   "source": [
    "data "
   ]
  },
  {
   "cell_type": "markdown",
   "id": "4ccba22f",
   "metadata": {},
   "source": [
    "# Instantiate the k-means model \n",
    "## the number of clusters is 3"
   ]
  },
  {
   "cell_type": "code",
   "execution_count": 4,
   "id": "6582ce32",
   "metadata": {},
   "outputs": [],
   "source": [
    "kmeans = KMeans(n_clusters=3)"
   ]
  },
  {
   "cell_type": "markdown",
   "id": "df5e3e45",
   "metadata": {},
   "source": [
    "# Fit the model"
   ]
  },
  {
   "cell_type": "code",
   "execution_count": 5,
   "id": "cfcb17cc",
   "metadata": {},
   "outputs": [
    {
     "data": {
      "text/plain": [
       "KMeans(n_clusters=3)"
      ]
     },
     "execution_count": 5,
     "metadata": {},
     "output_type": "execute_result"
    }
   ],
   "source": [
    "kmeans.fit(data)"
   ]
  },
  {
   "cell_type": "markdown",
   "id": "508f59c4",
   "metadata": {},
   "source": [
    "# Get cluster centers "
   ]
  },
  {
   "cell_type": "code",
   "execution_count": 6,
   "id": "b04420f5",
   "metadata": {},
   "outputs": [],
   "source": [
    "centroids = kmeans.cluster_centers_\n"
   ]
  },
  {
   "cell_type": "markdown",
   "id": "febd76be",
   "metadata": {},
   "source": [
    "# display the coordinates of the cluster centers"
   ]
  },
  {
   "cell_type": "code",
   "execution_count": 7,
   "id": "be4e4574",
   "metadata": {},
   "outputs": [
    {
     "name": "stdout",
     "output_type": "stream",
     "text": [
      "Centres de cluster :\n",
      "[[3.66666667 9.        ]\n",
      " [7.         4.33333333]\n",
      " [1.5        3.5       ]]\n"
     ]
    }
   ],
   "source": [
    "print(\"Centres de cluster :\")\n",
    "print(centroids)"
   ]
  },
  {
   "cell_type": "markdown",
   "id": "b68266d9",
   "metadata": {},
   "source": [
    "# Predict clusters for each observation"
   ]
  },
  {
   "cell_type": "code",
   "execution_count": 10,
   "id": "1dc9604a",
   "metadata": {},
   "outputs": [],
   "source": [
    "labels = kmeans.predict(data)"
   ]
  },
  {
   "cell_type": "markdown",
   "id": "103a6c38",
   "metadata": {},
   "source": [
    "# display cluster labels "
   ]
  },
  {
   "cell_type": "code",
   "execution_count": 11,
   "id": "12a0274c",
   "metadata": {},
   "outputs": [
    {
     "name": "stdout",
     "output_type": "stream",
     "text": [
      "Labels de cluster :\n",
      "[0 2 1 0 1 1 2 0]\n"
     ]
    }
   ],
   "source": [
    "print(\"Labels de cluster :\")\n",
    "print(labels)"
   ]
  },
  {
   "cell_type": "markdown",
   "id": "9b11af03",
   "metadata": {},
   "source": [
    "# Visualization of results"
   ]
  },
  {
   "cell_type": "code",
   "execution_count": 17,
   "id": "4aab1f8c",
   "metadata": {},
   "outputs": [
    {
     "data": {
      "image/png": "[encoded data removed]",
      "text/plain": [
       "<Figure size 640x480 with 1 Axes>"
      ]
     },
     "metadata": {},
     "output_type": "display_data"
    }
   ],
   "source": [
    "colors = ['b', 'g', 'r', 'c', 'm', 'y', 'k']\n",
    "\n",
    "for i in range(len(data)):\n",
    "    plt.scatter(data[i][0], data[i][1], color=colors[labels[i]]) # drawing the points (the color of each point is determined by the cluster label it belongs to)\n",
    "\n",
    "plt.scatter(centroids[:, 0], centroids[:, 1], marker='*', s=200, color='black') #creates stars to represent cluster centers\n",
    "\n",
    "plt.show()"
   ]
  }
 ],
 "metadata": {
  "kernelspec": {
   "display_name": "Python 3 (ipykernel)",
   "language": "python",
   "name": "python3"
  },
  "language_info": {
   "codemirror_mode": {
    "name": "ipython",
    "version": 3
   },
   "file_extension": ".py",
   "mimetype": "text/x-python",
   "name": "python",
   "nbconvert_exporter": "python",
   "pygments_lexer": "ipython3",
   "version": "3.7.1"
  }
 },
 "nbformat": 4,
 "nbformat_minor": 5
}
