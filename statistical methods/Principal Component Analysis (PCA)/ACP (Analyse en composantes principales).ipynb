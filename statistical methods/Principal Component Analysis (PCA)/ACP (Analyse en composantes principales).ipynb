{
 "cells": [
  {
   "cell_type": "markdown",
   "id": "596a49d0",
   "metadata": {},
   "source": [
    "# L'importation des libraries"
   ]
  },
  {
   "cell_type": "code",
   "execution_count": 1,
   "id": "ac0a4bac",
   "metadata": {},
   "outputs": [],
   "source": [
    "import pandas as pd\n",
    "import numpy as np\n",
    "from sklearn.decomposition import PCA    "
   ]
  },
  {
   "cell_type": "markdown",
   "id": "97f13876",
   "metadata": {},
   "source": [
    "# l'importation des donnees a partir d'un fichier Excel"
   ]
  },
  {
   "cell_type": "code",
   "execution_count": 2,
   "id": "50ed019d",
   "metadata": {},
   "outputs": [],
   "source": [
    "data = pd.read_excel('dataset_acp.xlsx')"
   ]
  },
  {
   "cell_type": "markdown",
   "id": "bf896ce3",
   "metadata": {},
   "source": [
    "# Extraction des variables à partir des données importées "
   ]
  },
  {
   "cell_type": "code",
   "execution_count": 3,
   "id": "ac020304",
   "metadata": {},
   "outputs": [],
   "source": [
    "X = data[['X1', 'X2', 'X3']]"
   ]
  },
  {
   "cell_type": "code",
   "execution_count": 4,
   "id": "1995f9b4",
   "metadata": {},
   "outputs": [
    {
     "data": {
      "text/html": [
       "<div>\n",
       "<style scoped>\n",
       "    .dataframe tbody tr th:only-of-type {\n",
       "        vertical-align: middle;\n",
       "    }\n",
       "\n",
       "    .dataframe tbody tr th {\n",
       "        vertical-align: top;\n",
       "    }\n",
       "\n",
       "    .dataframe thead th {\n",
       "        text-align: right;\n",
       "    }\n",
       "</style>\n",
       "<table border=\"1\" class=\"dataframe\">\n",
       "  <thead>\n",
       "    <tr style=\"text-align: right;\">\n",
       "      <th></th>\n",
       "      <th>X1</th>\n",
       "      <th>X2</th>\n",
       "      <th>X3</th>\n",
       "    </tr>\n",
       "  </thead>\n",
       "  <tbody>\n",
       "    <tr>\n",
       "      <th>0</th>\n",
       "      <td>2</td>\n",
       "      <td>4</td>\n",
       "      <td>2</td>\n",
       "    </tr>\n",
       "    <tr>\n",
       "      <th>1</th>\n",
       "      <td>4</td>\n",
       "      <td>6</td>\n",
       "      <td>1</td>\n",
       "    </tr>\n",
       "    <tr>\n",
       "      <th>2</th>\n",
       "      <td>6</td>\n",
       "      <td>-1</td>\n",
       "      <td>3</td>\n",
       "    </tr>\n",
       "    <tr>\n",
       "      <th>3</th>\n",
       "      <td>3</td>\n",
       "      <td>5</td>\n",
       "      <td>-1</td>\n",
       "    </tr>\n",
       "  </tbody>\n",
       "</table>\n",
       "</div>"
      ],
      "text/plain": [
       "   X1  X2  X3\n",
       "0   2   4   2\n",
       "1   4   6   1\n",
       "2   6  -1   3\n",
       "3   3   5  -1"
      ]
     },
     "execution_count": 4,
     "metadata": {},
     "output_type": "execute_result"
    }
   ],
   "source": [
    "X\n"
   ]
  },
  {
   "cell_type": "markdown",
   "id": "da224196",
   "metadata": {},
   "source": [
    "# La standardisation des données\n"
   ]
  },
  {
   "cell_type": "code",
   "execution_count": 5,
   "id": "486b1835",
   "metadata": {},
   "outputs": [],
   "source": [
    "X_std = (X - X.mean(axis=0)) / X.std(axis=0)"
   ]
  },
  {
   "cell_type": "code",
   "execution_count": 6,
   "id": "98ae31c6",
   "metadata": {},
   "outputs": [
    {
     "data": {
      "text/html": [
       "<div>\n",
       "<style scoped>\n",
       "    .dataframe tbody tr th:only-of-type {\n",
       "        vertical-align: middle;\n",
       "    }\n",
       "\n",
       "    .dataframe tbody tr th {\n",
       "        vertical-align: top;\n",
       "    }\n",
       "\n",
       "    .dataframe thead th {\n",
       "        text-align: right;\n",
       "    }\n",
       "</style>\n",
       "<table border=\"1\" class=\"dataframe\">\n",
       "  <thead>\n",
       "    <tr style=\"text-align: right;\">\n",
       "      <th></th>\n",
       "      <th>X1</th>\n",
       "      <th>X2</th>\n",
       "      <th>X3</th>\n",
       "    </tr>\n",
       "  </thead>\n",
       "  <tbody>\n",
       "    <tr>\n",
       "      <th>0</th>\n",
       "      <td>-1.024695</td>\n",
       "      <td>0.160817</td>\n",
       "      <td>0.439155</td>\n",
       "    </tr>\n",
       "    <tr>\n",
       "      <th>1</th>\n",
       "      <td>0.146385</td>\n",
       "      <td>0.804084</td>\n",
       "      <td>-0.146385</td>\n",
       "    </tr>\n",
       "    <tr>\n",
       "      <th>2</th>\n",
       "      <td>1.317465</td>\n",
       "      <td>-1.447352</td>\n",
       "      <td>1.024695</td>\n",
       "    </tr>\n",
       "    <tr>\n",
       "      <th>3</th>\n",
       "      <td>-0.439155</td>\n",
       "      <td>0.482451</td>\n",
       "      <td>-1.317465</td>\n",
       "    </tr>\n",
       "  </tbody>\n",
       "</table>\n",
       "</div>"
      ],
      "text/plain": [
       "         X1        X2        X3\n",
       "0 -1.024695  0.160817  0.439155\n",
       "1  0.146385  0.804084 -0.146385\n",
       "2  1.317465 -1.447352  1.024695\n",
       "3 -0.439155  0.482451 -1.317465"
      ]
     },
     "execution_count": 6,
     "metadata": {},
     "output_type": "execute_result"
    }
   ],
   "source": [
    "X_std\n"
   ]
  },
  {
   "cell_type": "markdown",
   "id": "2df604c7",
   "metadata": {},
   "source": [
    "# Création d'une instance de la classe PCA"
   ]
  },
  {
   "cell_type": "code",
   "execution_count": 7,
   "id": "f40978e6",
   "metadata": {},
   "outputs": [],
   "source": [
    "pca = PCA(n_components=3)"
   ]
  },
  {
   "cell_type": "markdown",
   "id": "8c4f847b",
   "metadata": {},
   "source": [
    "# L'application de l'algorithme de l'ACP sur les données centrées et réduites (standardisées)\n"
   ]
  },
  {
   "cell_type": "code",
   "execution_count": 8,
   "id": "5601f38f",
   "metadata": {},
   "outputs": [
    {
     "data": {
      "text/plain": [
       "PCA(n_components=3)"
      ]
     },
     "execution_count": 8,
     "metadata": {},
     "output_type": "execute_result"
    }
   ],
   "source": [
    "pca.fit(X_std)"
   ]
  },
  {
   "cell_type": "markdown",
   "id": "9334fe89",
   "metadata": {},
   "source": [
    "# Extraction des composantes principales et leurs variances expliquées"
   ]
  },
  {
   "cell_type": "code",
   "execution_count": 9,
   "id": "b8daf465",
   "metadata": {},
   "outputs": [],
   "source": [
    "components = pca.components_\n",
    "explained_variances = pca.explained_variance_ratio_"
   ]
  },
  {
   "cell_type": "markdown",
   "id": "46caeae3",
   "metadata": {},
   "source": [
    "# Affichage des composantes principales et leurs variances expliquées\n"
   ]
  },
  {
   "cell_type": "code",
   "execution_count": 10,
   "id": "7d3371e1",
   "metadata": {},
   "outputs": [
    {
     "name": "stdout",
     "output_type": "stream",
     "text": [
      "Composantes principales:\n",
      "[[ 5.54845442e-01 -6.19913761e-01  5.54845442e-01]\n",
      " [-7.07106781e-01  1.02162388e-16  7.07106781e-01]\n",
      " [ 4.38345224e-01  7.84669949e-01  4.38345224e-01]]\n",
      "\n",
      "Variances expliquées:\n",
      "[0.76410219 0.17142857 0.06446923]\n"
     ]
    }
   ],
   "source": [
    "print(\"Composantes principales:\")\n",
    "print(components)\n",
    "print(\"\\nVariances expliquées:\")\n",
    "print(explained_variances)"
   ]
  },
  {
   "cell_type": "markdown",
   "id": "a634ad38",
   "metadata": {},
   "source": [
    "## Commentaire : "
   ]
  },
  {
   "cell_type": "markdown",
   "id": "1f9d3d4e",
   "metadata": {},
   "source": [
    "c'est claire que la première composante sera prise en considération car sa variance expliqueé est très élevée(=77%)"
   ]
  }
 ],
 "metadata": {
  "kernelspec": {
   "display_name": "Python 3 (ipykernel)",
   "language": "python",
   "name": "python3"
  },
  "language_info": {
   "codemirror_mode": {
    "name": "ipython",
    "version": 3
   },
   "file_extension": ".py",
   "mimetype": "text/x-python",
   "name": "python",
   "nbconvert_exporter": "python",
   "pygments_lexer": "ipython3",
   "version": "3.9.12"
  }
 },
 "nbformat": 4,
 "nbformat_minor": 5
}
